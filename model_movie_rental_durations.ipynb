{
 "cells": [
  {
   "cell_type": "code",
   "execution_count": 1,
   "id": "aad15e3a",
   "metadata": {
    "executionCancelledAt": null,
    "executionTime": 10,
    "lastExecutedAt": 1736434494850,
    "lastExecutedByKernel": "932c231b-78ff-4f65-bc6d-24abeda426bc",
    "lastScheduledRunId": null,
    "lastSuccessfullyExecutedCode": "import pandas as pd\nimport numpy as np\n\nfrom sklearn.model_selection import train_test_split, RandomizedSearchCV\nfrom sklearn.metrics import mean_squared_error as MSE\n\nimport matplotlib.pyplot as plt\nimport seaborn as sns\n\n# Import any additional modules and start coding below"
   },
   "outputs": [],
   "source": [
    "import pandas as pd\n",
    "import numpy as np\n",
    "\n",
    "from sklearn.ensemble import RandomForestRegressor\n",
    "from sklearn.model_selection import train_test_split, RandomizedSearchCV\n",
    "from sklearn.metrics import mean_squared_error as MSE\n",
    "\n",
    "import matplotlib.pyplot as plt\n",
    "import seaborn as sns\n",
    "\n"
   ]
  },
  {
   "cell_type": "code",
   "execution_count": 2,
   "id": "194b39d4",
   "metadata": {
    "executionCancelledAt": null,
    "executionTime": 69,
    "lastExecutedAt": 1736434494919,
    "lastExecutedByKernel": "932c231b-78ff-4f65-bc6d-24abeda426bc",
    "lastScheduledRunId": null,
    "lastSuccessfullyExecutedCode": "rents = pd.read_csv('rental_info.csv')\nprint(rents.info())\nprint(rents[['rental_date','return_date']].head())\nprint(rents['special_features'].value_counts())\nprint(rents.isna().sum())",
    "outputsMetadata": {
     "0": {
      "height": 594,
      "type": "stream"
     }
    }
   },
   "outputs": [
    {
     "name": "stdout",
     "output_type": "stream",
     "text": [
      "<class 'pandas.core.frame.DataFrame'>\n",
      "RangeIndex: 15861 entries, 0 to 15860\n",
      "Data columns (total 15 columns):\n",
      " #   Column            Non-Null Count  Dtype  \n",
      "---  ------            --------------  -----  \n",
      " 0   rental_date       15861 non-null  object \n",
      " 1   return_date       15861 non-null  object \n",
      " 2   amount            15861 non-null  float64\n",
      " 3   release_year      15861 non-null  float64\n",
      " 4   rental_rate       15861 non-null  float64\n",
      " 5   length            15861 non-null  float64\n",
      " 6   replacement_cost  15861 non-null  float64\n",
      " 7   special_features  15861 non-null  object \n",
      " 8   NC-17             15861 non-null  int64  \n",
      " 9   PG                15861 non-null  int64  \n",
      " 10  PG-13             15861 non-null  int64  \n",
      " 11  R                 15861 non-null  int64  \n",
      " 12  amount_2          15861 non-null  float64\n",
      " 13  length_2          15861 non-null  float64\n",
      " 14  rental_rate_2     15861 non-null  float64\n",
      "dtypes: float64(8), int64(4), object(3)\n",
      "memory usage: 1.8+ MB\n",
      "None\n",
      "                 rental_date                return_date\n",
      "0  2005-05-25 02:54:33+00:00  2005-05-28 23:40:33+00:00\n",
      "1  2005-06-15 23:19:16+00:00  2005-06-18 19:24:16+00:00\n",
      "2  2005-07-10 04:27:45+00:00  2005-07-17 10:11:45+00:00\n",
      "3  2005-07-31 12:06:41+00:00  2005-08-02 14:30:41+00:00\n",
      "4  2005-08-19 12:30:04+00:00  2005-08-23 13:35:04+00:00\n",
      "special_features\n",
      "{Trailers,Commentaries,\"Behind the Scenes\"}                     1308\n",
      "{Trailers}                                                      1139\n",
      "{Trailers,Commentaries}                                         1129\n",
      "{Trailers,\"Behind the Scenes\"}                                  1122\n",
      "{\"Behind the Scenes\"}                                           1108\n",
      "{Commentaries,\"Deleted Scenes\",\"Behind the Scenes\"}             1101\n",
      "{Commentaries}                                                  1089\n",
      "{Commentaries,\"Behind the Scenes\"}                              1078\n",
      "{Trailers,\"Deleted Scenes\"}                                     1047\n",
      "{\"Deleted Scenes\",\"Behind the Scenes\"}                          1035\n",
      "{\"Deleted Scenes\"}                                              1023\n",
      "{Commentaries,\"Deleted Scenes\"}                                 1011\n",
      "{Trailers,Commentaries,\"Deleted Scenes\",\"Behind the Scenes\"}     983\n",
      "{Trailers,Commentaries,\"Deleted Scenes\"}                         916\n",
      "{Trailers,\"Deleted Scenes\",\"Behind the Scenes\"}                  772\n",
      "Name: count, dtype: int64\n",
      "rental_date         0\n",
      "return_date         0\n",
      "amount              0\n",
      "release_year        0\n",
      "rental_rate         0\n",
      "length              0\n",
      "replacement_cost    0\n",
      "special_features    0\n",
      "NC-17               0\n",
      "PG                  0\n",
      "PG-13               0\n",
      "R                   0\n",
      "amount_2            0\n",
      "length_2            0\n",
      "rental_rate_2       0\n",
      "dtype: int64\n"
     ]
    }
   ],
   "source": [
    "rents = pd.read_csv('rental_info.csv')\n",
    "\n",
    "\n",
    "print(rents.info())\n",
    "print(rents[['rental_date','return_date']].head())\n",
    "print(rents['special_features'].value_counts())\n",
    "print(rents.isna().sum())"
   ]
  },
  {
   "cell_type": "markdown",
   "id": "b56dee60",
   "metadata": {},
   "source": [
    "Several takeaways from the explotratory analysis:\n",
    "- The columns rental_date and return_date are objects including date and time\n",
    "- The column special_features is a srting, yet contain severl groups and needs to be splited to other columns of 0 and 1\n",
    "- There are no missing values to impute "
   ]
  },
  {
   "cell_type": "code",
   "execution_count": 7,
   "id": "92c47d55",
   "metadata": {
    "executionCancelledAt": null,
    "executionTime": 507,
    "lastExecutedAt": 1736434495426,
    "lastExecutedByKernel": "932c231b-78ff-4f65-bc6d-24abeda426bc",
    "lastScheduledRunId": null,
    "lastSuccessfullyExecutedCode": "# Convert the rental_date and return_date to datetime types and add the column rental_length_days\n\nfrom datetime import datetime, timedelta\nimport statsmodels.api as sm\n\nrents['rental_date'] = pd.to_datetime(rents['rental_date'],format = \"%Y-%m-%d %H:%M:%S\")\nrents['return_date'] = pd.to_datetime(rents['return_date'],format = \"%Y-%m-%d %H:%M:%S\")\n\nrents['rental_length_days'] = (rents['return_date'] - rents['rental_date']).dt.days\n\n\nprint(rents[['rental_date','return_date','rental_length_days']].info())\nprint(rents['rental_length_days'].head())\n\n# Explore the distribution of the rental_length_dates\nsns.histplot(data = rents['rental_length_days'], \n             bins = 100, \n             color = 'grey',  \n             linewidth=0.5,\n             stat = 'density'\n             )\n\nsm.qqplot(rents['rental_length_days'], line='45', color = 'grey')\n\nplt.show()",
    "outputsMetadata": {
     "0": {
      "height": 374,
      "type": "stream"
     }
    }
   },
   "outputs": [
    {
     "name": "stdout",
     "output_type": "stream",
     "text": [
      "<class 'pandas.core.frame.DataFrame'>\n",
      "RangeIndex: 15861 entries, 0 to 15860\n",
      "Data columns (total 3 columns):\n",
      " #   Column              Non-Null Count  Dtype              \n",
      "---  ------              --------------  -----              \n",
      " 0   rental_date         15861 non-null  datetime64[ns, UTC]\n",
      " 1   return_date         15861 non-null  datetime64[ns, UTC]\n",
      " 2   rental_length_days  15861 non-null  int64              \n",
      "dtypes: datetime64[ns, UTC](2), int64(1)\n",
      "memory usage: 371.9 KB\n",
      "None\n",
      "0    3\n",
      "1    2\n",
      "2    7\n",
      "3    2\n",
      "4    4\n",
      "Name: rental_length_days, dtype: int64\n"
     ]
    },
    {
     "data": {
      "image/png": "[encoded data removed]",
      "text/plain": [
       "<Figure size 640x480 with 1 Axes>"
      ]
     },
     "metadata": {},
     "output_type": "display_data"
    },
    {
     "data": {
      "image/png": "[encoded data removed]",
      "text/plain": [
       "<Figure size 640x480 with 1 Axes>"
      ]
     },
     "metadata": {},
     "output_type": "display_data"
    }
   ],
   "source": [
    "# Convert the rental_date and return_date to datetime types and add the column rental_length_days\n",
    "\n",
    "from datetime import datetime, timedelta\n",
    "import statsmodels.api as sm\n",
    "\n",
    "rents['rental_date'] = pd.to_datetime(rents['rental_date'],format = 'ISO8601')\n",
    "rents['return_date'] = pd.to_datetime(rents['return_date'],format = 'ISO8601')\n",
    "\n",
    "rents['rental_length_days'] = (rents['return_date'] - rents['rental_date']).dt.days\n",
    "\n",
    "\n",
    "print(rents[['rental_date','return_date','rental_length_days']].info())\n",
    "\n",
    "print(rents['rental_length_days'].head())\n",
    "\n",
    "# Explore the distribution of the rental_length_dates in order to derive implications for the model\n",
    "sns.histplot(data = rents['rental_length_days'], \n",
    "             bins = 100,   \n",
    "             linewidth=0.5,\n",
    "             stat = 'density'\n",
    "             )\n",
    "\n",
    "sm.qqplot(rents['rental_length_days'], line='45')\n",
    "\n",
    "plt.show()"
   ]
  },
  {
   "cell_type": "code",
   "execution_count": 10,
   "id": "3a539e21",
   "metadata": {
    "executionCancelledAt": null,
    "executionTime": 48,
    "lastExecutedAt": 1736434495522,
    "lastExecutedByKernel": "932c231b-78ff-4f65-bc6d-24abeda426bc",
    "lastScheduledRunId": null,
    "lastSuccessfullyExecutedCode": "# Split the special_features column to dummy columns\n\nprint(rents['special_features'].head(20))\n\nrents['deleted_scenes'] = np.where(rents['special_features'].str.contains('Deleted Scenes'),1,0)\nrents['behind_the_scenes'] = np.where(rents['special_features'].str.contains('Behind the Scenes'),1,0)\n\n# Test the assigned values\n\nprint(rents.loc[0,'behind_the_scenes'], \n      rents.loc[0,'deleted_scenes'],\n      rents.loc[0,'special_features'])\n\nindex_test = rents[rents['special_features'].str.contains('Deleted Scenes') == True].index[0]\nindex_test_2 = rents[rents['special_features'].str.contains('Behind the Scenes') == False].index[0]\n\nprint(rents.loc[index_test,'deleted_scenes'], \n      rents.loc[index_test,'special_features'])\nprint(rents.loc[index_test_2,'behind_the_scenes'],\n      rents.loc[index_test_2,'special_features'])\n",
    "outputsMetadata": {
     "0": {
      "height": 521,
      "type": "stream"
     }
    }
   },
   "outputs": [
    {
     "name": "stdout",
     "output_type": "stream",
     "text": [
      "0     {Trailers,\"Behind the Scenes\"}\n",
      "1     {Trailers,\"Behind the Scenes\"}\n",
      "2     {Trailers,\"Behind the Scenes\"}\n",
      "3     {Trailers,\"Behind the Scenes\"}\n",
      "4     {Trailers,\"Behind the Scenes\"}\n",
      "5     {Trailers,\"Behind the Scenes\"}\n",
      "6     {Trailers,\"Behind the Scenes\"}\n",
      "7     {Trailers,\"Behind the Scenes\"}\n",
      "8     {Trailers,\"Behind the Scenes\"}\n",
      "9     {Trailers,\"Behind the Scenes\"}\n",
      "10    {Trailers,\"Behind the Scenes\"}\n",
      "11    {Trailers,\"Behind the Scenes\"}\n",
      "12    {Trailers,\"Behind the Scenes\"}\n",
      "13    {Trailers,\"Behind the Scenes\"}\n",
      "14    {Trailers,\"Behind the Scenes\"}\n",
      "15    {Trailers,\"Behind the Scenes\"}\n",
      "16    {Trailers,\"Behind the Scenes\"}\n",
      "17    {Trailers,\"Behind the Scenes\"}\n",
      "18    {Trailers,\"Behind the Scenes\"}\n",
      "19    {Trailers,\"Behind the Scenes\"}\n",
      "Name: special_features, dtype: object\n",
      "1 0 {Trailers,\"Behind the Scenes\"}\n",
      "1 {\"Deleted Scenes\",\"Behind the Scenes\"}\n",
      "0 {Trailers}\n"
     ]
    }
   ],
   "source": [
    "# Split the special_features Deleted Scenes and Behind the Scenes to dummy columns per project's instructions\n",
    "\n",
    "\n",
    "print(rents['special_features'].head(20))\n",
    "\n",
    "rents['deleted_scenes'] = np.where(rents['special_features'].str.contains('Deleted Scenes'),1,0)\n",
    "rents['behind_the_scenes'] = np.where(rents['special_features'].str.contains('Behind the Scenes'),1,0)\n",
    "\n",
    "# Test the split output\n",
    "\n",
    "print(rents.loc[0,'behind_the_scenes'], \n",
    "      rents.loc[0,'deleted_scenes'],\n",
    "      rents.loc[0,'special_features'])\n",
    "\n",
    "index_test = rents[rents['special_features'].str.contains('Deleted Scenes') == True].index[0]\n",
    "index_test_2 = rents[rents['special_features'].str.contains('Behind the Scenes') == False].index[0]\n",
    "\n",
    "print(rents.loc[index_test,'deleted_scenes'], \n",
    "      rents.loc[index_test,'special_features'])\n",
    "print(rents.loc[index_test_2,'behind_the_scenes'],\n",
    "      rents.loc[index_test_2,'special_features'])\n"
   ]
  },
  {
   "cell_type": "code",
   "execution_count": 12,
   "id": "624648d9",
   "metadata": {
    "executionCancelledAt": null,
    "executionTime": 48,
    "lastExecutedAt": 1736434495570,
    "lastExecutedByKernel": "932c231b-78ff-4f65-bc6d-24abeda426bc",
    "lastScheduledRunId": null,
    "lastSuccessfullyExecutedCode": "# Prepare a dataframe for a regression model\nX = rents.drop(['rental_date','return_date','special_features','rental_length_days'], axis =1)\ny = rents['rental_length_days']\n\n#print(X.info())\n#print(y.head())\n\n",
    "outputsMetadata": {
     "0": {
      "height": 544,
      "type": "stream"
     }
    }
   },
   "outputs": [],
   "source": [
    "# Prepare a dataframe for a regression model\n",
    "# Note that I dropped the rental and return dates due to the project's instructions\n",
    "\n",
    "X = rents.drop(['rental_date','return_date','special_features','rental_length_days'], axis =1) \n",
    "y = rents['rental_length_days']\n",
    "\n"
   ]
  },
  {
   "cell_type": "code",
   "execution_count": 13,
   "id": "db223e87",
   "metadata": {
    "executionCancelledAt": null,
    "executionTime": 48,
    "lastExecutedAt": 1736434495618,
    "lastExecutedByKernel": "932c231b-78ff-4f65-bc6d-24abeda426bc",
    "lastScheduledRunId": null,
    "lastSuccessfullyExecutedCode": "# Split the data\n\nSEED = 9\n\nX_train, X_test, y_train, y_test = train_test_split(X,y,\n                                                    test_size = 0.2,\n                                                    random_state= SEED\n                                                    )\n"
   },
   "outputs": [],
   "source": [
    "# Split the data\n",
    "\n",
    "SEED = 9\n",
    "\n",
    "X_train, X_test, y_train, y_test = train_test_split(X,y,\n",
    "                                                    test_size = 0.2,\n",
    "                                                    random_state= SEED\n",
    "                                                    )\n"
   ]
  },
  {
   "cell_type": "code",
   "execution_count": 14,
   "id": "d18e417f",
   "metadata": {
    "executionCancelledAt": null,
    "executionTime": 12339,
    "lastExecutedAt": 1736434508005,
    "lastExecutedByKernel": "932c231b-78ff-4f65-bc6d-24abeda426bc",
    "lastScheduledRunId": null,
    "lastSuccessfullyExecutedCode": "from sklearn.ensemble import RandomForestRegressor\n\nrf = RandomForestRegressor(random_state = SEED)\n\n\nparams_rf = {\n             'n_estimators': np.arange(1,101,1),\n             'max_depth': np.arange(1,11,1)\n}\n\ngrid_rf = RandomizedSearchCV(rf,\n                             param_distributions= params_rf,\n                             cv= 5,\n                             scoring= 'neg_mean_squared_error')\n\ngrid_rf.fit(X_train,y_train)",
    "outputsMetadata": {
     "0": {
      "height": 38,
      "type": "stream"
     }
    }
   },
   "outputs": [
    {
     "data": {
      "text/html": [
       "<style>#sk-container-id-1 {color: black;}#sk-container-id-1 pre{padding: 0;}#sk-container-id-1 div.sk-toggleable {background-color: white;}#sk-container-id-1 label.sk-toggleable__label {cursor: pointer;display: block;width: 100%;margin-bottom: 0;padding: 0.3em;box-sizing: border-box;text-align: center;}#sk-container-id-1 label.sk-toggleable__label-arrow:before {content: \"▸\";float: left;margin-right: 0.25em;color: #696969;}#sk-container-id-1 label.sk-toggleable__label-arrow:hover:before {color: black;}#sk-container-id-1 div.sk-estimator:hover label.sk-toggleable__label-arrow:before {color: black;}#sk-container-id-1 div.sk-toggleable__content {max-height: 0;max-width: 0;overflow: hidden;text-align: left;background-color: #f0f8ff;}#sk-container-id-1 div.sk-toggleable__content pre {margin: 0.2em;color: black;border-radius: 0.25em;background-color: #f0f8ff;}#sk-container-id-1 input.sk-toggleable__control:checked~div.sk-toggleable__content {max-height: 200px;max-width: 100%;overflow: auto;}#sk-container-id-1 input.sk-toggleable__control:checked~label.sk-toggleable__label-arrow:before {content: \"▾\";}#sk-container-id-1 div.sk-estimator input.sk-toggleable__control:checked~label.sk-toggleable__label {background-color: #d4ebff;}#sk-container-id-1 div.sk-label input.sk-toggleable__control:checked~label.sk-toggleable__label {background-color: #d4ebff;}#sk-container-id-1 input.sk-hidden--visually {border: 0;clip: rect(1px 1px 1px 1px);clip: rect(1px, 1px, 1px, 1px);height: 1px;margin: -1px;overflow: hidden;padding: 0;position: absolute;width: 1px;}#sk-container-id-1 div.sk-estimator {font-family: monospace;background-color: #f0f8ff;border: 1px dotted black;border-radius: 0.25em;box-sizing: border-box;margin-bottom: 0.5em;}#sk-container-id-1 div.sk-estimator:hover {background-color: #d4ebff;}#sk-container-id-1 div.sk-parallel-item::after {content: \"\";width: 100%;border-bottom: 1px solid gray;flex-grow: 1;}#sk-container-id-1 div.sk-label:hover label.sk-toggleable__label {background-color: #d4ebff;}#sk-container-id-1 div.sk-serial::before {content: \"\";position: absolute;border-left: 1px solid gray;box-sizing: border-box;top: 0;bottom: 0;left: 50%;z-index: 0;}#sk-container-id-1 div.sk-serial {display: flex;flex-direction: column;align-items: center;background-color: white;padding-right: 0.2em;padding-left: 0.2em;position: relative;}#sk-container-id-1 div.sk-item {position: relative;z-index: 1;}#sk-container-id-1 div.sk-parallel {display: flex;align-items: stretch;justify-content: center;background-color: white;position: relative;}#sk-container-id-1 div.sk-item::before, #sk-container-id-1 div.sk-parallel-item::before {content: \"\";position: absolute;border-left: 1px solid gray;box-sizing: border-box;top: 0;bottom: 0;left: 50%;z-index: -1;}#sk-container-id-1 div.sk-parallel-item {display: flex;flex-direction: column;z-index: 1;position: relative;background-color: white;}#sk-container-id-1 div.sk-parallel-item:first-child::after {align-self: flex-end;width: 50%;}#sk-container-id-1 div.sk-parallel-item:last-child::after {align-self: flex-start;width: 50%;}#sk-container-id-1 div.sk-parallel-item:only-child::after {width: 0;}#sk-container-id-1 div.sk-dashed-wrapped {border: 1px dashed gray;margin: 0 0.4em 0.5em 0.4em;box-sizing: border-box;padding-bottom: 0.4em;background-color: white;}#sk-container-id-1 div.sk-label label {font-family: monospace;font-weight: bold;display: inline-block;line-height: 1.2em;}#sk-container-id-1 div.sk-label-container {text-align: center;}#sk-container-id-1 div.sk-container {/* jupyter's `normalize.less` sets `[hidden] { display: none; }` but bootstrap.min.css set `[hidden] { display: none !important; }` so we also need the `!important` here to be able to override the default hidden behavior on the sphinx rendered scikit-learn.org. See: https://github.com/scikit-learn/scikit-learn/issues/21755 */display: inline-block !important;position: relative;}#sk-container-id-1 div.sk-text-repr-fallback {display: none;}</style><div id=\"sk-container-id-1\" class=\"sk-top-container\"><div class=\"sk-text-repr-fallback\"><pre>RandomizedSearchCV(cv=5, estimator=RandomForestRegressor(random_state=9),\n",
       "                   param_distributions={&#x27;max_depth&#x27;: array([ 1,  2,  3,  4,  5,  6,  7,  8,  9, 10]),\n",
       "                                        &#x27;n_estimators&#x27;: array([  1,   2,   3,   4,   5,   6,   7,   8,   9,  10,  11,  12,  13,\n",
       "        14,  15,  16,  17,  18,  19,  20,  21,  22,  23,  24,  25,  26,\n",
       "        27,  28,  29,  30,  31,  32,  33,  34,  35,  36,  37,  38,  39,\n",
       "        40,  41,  42,  43,  44,  45,  46,  47,  48,  49,  50,  51,  52,\n",
       "        53,  54,  55,  56,  57,  58,  59,  60,  61,  62,  63,  64,  65,\n",
       "        66,  67,  68,  69,  70,  71,  72,  73,  74,  75,  76,  77,  78,\n",
       "        79,  80,  81,  82,  83,  84,  85,  86,  87,  88,  89,  90,  91,\n",
       "        92,  93,  94,  95,  96,  97,  98,  99, 100])},\n",
       "                   scoring=&#x27;neg_mean_squared_error&#x27;)</pre><b>In a Jupyter environment, please rerun this cell to show the HTML representation or trust the notebook. <br />On GitHub, the HTML representation is unable to render, please try loading this page with nbviewer.org.</b></div><div class=\"sk-container\" hidden><div class=\"sk-item sk-dashed-wrapped\"><div class=\"sk-label-container\"><div class=\"sk-label sk-toggleable\"><input class=\"sk-toggleable__control sk-hidden--visually\" id=\"sk-estimator-id-1\" type=\"checkbox\" ><label for=\"sk-estimator-id-1\" class=\"sk-toggleable__label sk-toggleable__label-arrow\">RandomizedSearchCV</label><div class=\"sk-toggleable__content\"><pre>RandomizedSearchCV(cv=5, estimator=RandomForestRegressor(random_state=9),\n",
       "                   param_distributions={&#x27;max_depth&#x27;: array([ 1,  2,  3,  4,  5,  6,  7,  8,  9, 10]),\n",
       "                                        &#x27;n_estimators&#x27;: array([  1,   2,   3,   4,   5,   6,   7,   8,   9,  10,  11,  12,  13,\n",
       "        14,  15,  16,  17,  18,  19,  20,  21,  22,  23,  24,  25,  26,\n",
       "        27,  28,  29,  30,  31,  32,  33,  34,  35,  36,  37,  38,  39,\n",
       "        40,  41,  42,  43,  44,  45,  46,  47,  48,  49,  50,  51,  52,\n",
       "        53,  54,  55,  56,  57,  58,  59,  60,  61,  62,  63,  64,  65,\n",
       "        66,  67,  68,  69,  70,  71,  72,  73,  74,  75,  76,  77,  78,\n",
       "        79,  80,  81,  82,  83,  84,  85,  86,  87,  88,  89,  90,  91,\n",
       "        92,  93,  94,  95,  96,  97,  98,  99, 100])},\n",
       "                   scoring=&#x27;neg_mean_squared_error&#x27;)</pre></div></div></div><div class=\"sk-parallel\"><div class=\"sk-parallel-item\"><div class=\"sk-item\"><div class=\"sk-label-container\"><div class=\"sk-label sk-toggleable\"><input class=\"sk-toggleable__control sk-hidden--visually\" id=\"sk-estimator-id-2\" type=\"checkbox\" ><label for=\"sk-estimator-id-2\" class=\"sk-toggleable__label sk-toggleable__label-arrow\">estimator: RandomForestRegressor</label><div class=\"sk-toggleable__content\"><pre>RandomForestRegressor(random_state=9)</pre></div></div></div><div class=\"sk-serial\"><div class=\"sk-item\"><div class=\"sk-estimator sk-toggleable\"><input class=\"sk-toggleable__control sk-hidden--visually\" id=\"sk-estimator-id-3\" type=\"checkbox\" ><label for=\"sk-estimator-id-3\" class=\"sk-toggleable__label sk-toggleable__label-arrow\">RandomForestRegressor</label><div class=\"sk-toggleable__content\"><pre>RandomForestRegressor(random_state=9)</pre></div></div></div></div></div></div></div></div></div></div>"
      ],
      "text/plain": [
       "RandomizedSearchCV(cv=5, estimator=RandomForestRegressor(random_state=9),\n",
       "                   param_distributions={'max_depth': array([ 1,  2,  3,  4,  5,  6,  7,  8,  9, 10]),\n",
       "                                        'n_estimators': array([  1,   2,   3,   4,   5,   6,   7,   8,   9,  10,  11,  12,  13,\n",
       "        14,  15,  16,  17,  18,  19,  20,  21,  22,  23,  24,  25,  26,\n",
       "        27,  28,  29,  30,  31,  32,  33,  34,  35,  36,  37,  38,  39,\n",
       "        40,  41,  42,  43,  44,  45,  46,  47,  48,  49,  50,  51,  52,\n",
       "        53,  54,  55,  56,  57,  58,  59,  60,  61,  62,  63,  64,  65,\n",
       "        66,  67,  68,  69,  70,  71,  72,  73,  74,  75,  76,  77,  78,\n",
       "        79,  80,  81,  82,  83,  84,  85,  86,  87,  88,  89,  90,  91,\n",
       "        92,  93,  94,  95,  96,  97,  98,  99, 100])},\n",
       "                   scoring='neg_mean_squared_error')"
      ]
     },
     "execution_count": 14,
     "metadata": {},
     "output_type": "execute_result"
    }
   ],
   "source": [
    "rf = RandomForestRegressor(random_state = SEED) # The project focused on random forest models\n",
    "\n",
    "\n",
    "params_rf = {\n",
    "             'n_estimators': np.arange(1,101,1),\n",
    "             'max_depth': np.arange(1,11,1)\n",
    "}\n",
    "\n",
    "# Tuning more hyper parameters led to a higher MSE and a model that did not generalize well\n",
    "\n",
    "grid_rf = RandomizedSearchCV(rf,\n",
    "                             param_distributions= params_rf,\n",
    "                             cv= 5,\n",
    "                             scoring= 'neg_mean_squared_error')\n",
    "\n",
    "grid_rf.fit(X_train,y_train)"
   ]
  },
  {
   "cell_type": "code",
   "execution_count": 17,
   "id": "049e243a",
   "metadata": {
    "executionCancelledAt": null,
    "executionTime": 53,
    "lastExecutedAt": 1736434508058,
    "lastExecutedByKernel": "932c231b-78ff-4f65-bc6d-24abeda426bc",
    "lastScheduledRunId": null,
    "lastSuccessfullyExecutedCode": "# Fetch the best params, estimator and MSE\n\nbest_hyperparameters = grid_rf.best_params_\nprint(best_hyperparameters)\n\nbest_model = grid_rf.best_estimator_\n\ny_pred = best_model.predict(X_test)\n\nbest_mse = MSE(y_pred,y_test)\n\nprint(best_mse)",
    "outputsMetadata": {
     "0": {
      "height": 59,
      "type": "stream"
     }
    }
   },
   "outputs": [
    {
     "name": "stdout",
     "output_type": "stream",
     "text": [
      "{'n_estimators': 12, 'max_depth': 10}\n",
      "2.249042600410423\n",
      "The model will make predictions with an AVG error of +/- 1.5 days\n"
     ]
    }
   ],
   "source": [
    "# Show the best params\n",
    "\n",
    "best_hyperparameters = grid_rf.best_params_\n",
    "print(best_hyperparameters)\n",
    "\n",
    "# Pull the best model/estimator\n",
    "\n",
    "best_model = grid_rf.best_estimator_\n",
    "\n",
    "# Calculate the MSE\n",
    "y_pred = best_model.predict(X_test)\n",
    "best_mse = MSE(y_pred,y_test)\n",
    "print(best_mse)\n",
    "\n",
    "rmse = round(best_mse**(1/2),2)\n",
    "\n",
    "print(f\"The model will make predictions with an AVG error of +/- {rmse} days\")\n"
   ]
  },
  {
   "cell_type": "code",
   "execution_count": null,
   "id": "37df2f08",
   "metadata": {},
   "outputs": [],
   "source": []
  }
 ],
 "metadata": {
  "colab": {
   "name": "Welcome to DataCamp Workspaces.ipynb",
   "provenance": []
  },
  "kernelspec": {
   "display_name": "Python 3 (ipykernel)",
   "language": "python",
   "name": "python3"
  },
  "language_info": {
   "codemirror_mode": {
    "name": "ipython",
    "version": 3
   },
   "file_extension": ".py",
   "mimetype": "text/x-python",
   "name": "python",
   "nbconvert_exporter": "python",
   "pygments_lexer": "ipython3",
   "version": "3.8.20"
  }
 },
 "nbformat": 4,
 "nbformat_minor": 5
}
